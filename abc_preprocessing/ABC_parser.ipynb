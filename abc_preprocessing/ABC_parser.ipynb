{
 "cells": [
  {
   "cell_type": "code",
   "execution_count": 55,
   "id": "a1197c5a-cc39-46b1-b550-cebc372c562d",
   "metadata": {},
   "outputs": [],
   "source": [
    "import re\n",
    "import glob\n",
    "import os"
   ]
  },
  {
   "cell_type": "code",
   "execution_count": 78,
   "id": "d8c07d24-a1c4-4b90-8ef3-8f0421f649b4",
   "metadata": {},
   "outputs": [],
   "source": [
    "\n",
    "class abcparser():\n",
    "\n",
    "    def __init__(self, data):\n",
    "        self.data = data\n",
    "        self.del_line = []\n",
    "        #self.data.reverse()\n",
    "        self.remove_comments()\n",
    "        self.remove_tuneheader()\n",
    "        self.remove_unwantedchars()\n",
    "        self.join_lines()\n",
    "        self.remove_restnotes()\n",
    "        self.update_bars()\n",
    "        self.remove_spaces()\n",
    "\n",
    "    def remove_unwantedchars(self):\n",
    "        for index,line in enumerate(self.data):\n",
    "            self.data[index] = line.replace('\\n','')\n",
    "\n",
    "    def remove_comments(self):\n",
    "        for index,line in enumerate(self.data):\n",
    "            if line.startswith(\"%\"):\n",
    "                self.del_line.append(index)\n",
    "\n",
    "        self.delete_lines()\n",
    "\n",
    "    def remove_tuneheader(self):\n",
    "        for index,line in enumerate(self.data):\n",
    "            if line[0].isalpha() and line[1] == ':':\n",
    "                self.del_line.append(index)\n",
    "\n",
    "        self.delete_lines()\n",
    "\n",
    "    def delete_lines(self):\n",
    "        self.del_line.reverse()\n",
    "        for ele in self.del_line:\n",
    "            del self.data[ele]\n",
    "\n",
    "        self.del_line = []\n",
    "        self.del_line.reverse()\n",
    "\n",
    "    def remove_beams(self):\n",
    "        for line in self.data:\n",
    "            line = line.replace('`','')\n",
    "\n",
    "    def join_lines(self):\n",
    "        self.data.reverse()\n",
    "        for index,line in enumerate(self.data):\n",
    "            if line.endswith('\\\\'):\n",
    "                self.data[index] = line.replace('\\\\',' ') + self.data[index - 1]\n",
    "                self.del_line.append(index-1)\n",
    "\n",
    "        self.delete_lines()\n",
    "        self.data.reverse()\n",
    "\n",
    "\n",
    "    def remove_restnotes(self):\n",
    "\n",
    "        for index,line in enumerate(self.data):\n",
    "            self.data[index] = re.sub('[zZxX][0-9]*[/]*[0-9]*','',line)\n",
    "\n",
    "    def update_bars(self):\n",
    "\n",
    "        for index,line in enumerate(self.data):\n",
    "            self.data[index] = line.replace('|',' ')\n",
    "            \n",
    "    def remove_spaces(self):\n",
    "\n",
    "        for index,line in enumerate(self.data):\n",
    "            self.data[index] = re.sub('[ ]+',' ',line)\n",
    "            if len(self.data[index]) <= 1:\n",
    "                self.del_line.append(index)\n",
    "                \n",
    "        self.delete_lines()\n",
    "        \n",
    "        for index,line in enumerate(self.data):\n",
    "            if line[0] == ' ':\n",
    "                self.data[index] = line[1:]\n",
    "            \n",
    "    "
   ]
  },
  {
   "cell_type": "code",
   "execution_count": 80,
   "id": "0cf53a88-3b92-4182-8641-a57eff628954",
   "metadata": {},
   "outputs": [],
   "source": [
    "#Change this accordingly\n",
    "working_dir = 'D:\\\\TCD\\\\Text Analytics\\\\Group Assignment\\\\Music-and-Lyrics-Similarity\\\\Database\\\\'\n",
    "os.chdir(working_dir)"
   ]
  },
  {
   "cell_type": "code",
   "execution_count": 70,
   "id": "532dac9e-865f-4735-9139-9929e1e3b369",
   "metadata": {},
   "outputs": [],
   "source": [
    "abc_files = glob.glob('*\\\\*\\\\*\\\\*.abc')"
   ]
  },
  {
   "cell_type": "code",
   "execution_count": 74,
   "id": "924d8f9a-3953-4581-9b7e-0467fbf78c8a",
   "metadata": {},
   "outputs": [
    {
     "data": {
      "text/plain": [
       "['Jazz\\\\ABC\\\\Louis Armstrong\\\\Louis Armstrong - What A Wonderful World.abc',\n",
       " 'NewAge\\\\ABC\\\\Enya\\\\bookofdays.abc']"
      ]
     },
     "execution_count": 74,
     "metadata": {},
     "output_type": "execute_result"
    }
   ],
   "source": [
    "abc_files"
   ]
  },
  {
   "cell_type": "code",
   "execution_count": 79,
   "id": "65e811f5-f1f4-45b9-a4c4-985c84aad91c",
   "metadata": {},
   "outputs": [],
   "source": [
    "for file in abc_files:\n",
    "    data = []\n",
    "    split_values = file.split('\\\\')\n",
    "    with open(file) as f:\n",
    "        data = f.readlines()\n",
    "    \n",
    "    testing = abcparser(data.copy())\n",
    "    \n",
    "    createABC = open(split_values[0] +  '\\\\ABC_processed\\\\' +  split_values[1] + split_values[3], \"w\")\n",
    "    for line in testing.data:\n",
    "        createABC.write(line)\n",
    "        createABC.write('\\n')\n",
    "        \n",
    "    createABC.close()"
   ]
  }
 ],
 "metadata": {
  "kernelspec": {
   "display_name": "Python 3 (ipykernel)",
   "language": "python",
   "name": "python3"
  },
  "language_info": {
   "codemirror_mode": {
    "name": "ipython",
    "version": 3
   },
   "file_extension": ".py",
   "mimetype": "text/x-python",
   "name": "python",
   "nbconvert_exporter": "python",
   "pygments_lexer": "ipython3",
   "version": "3.9.12"
  }
 },
 "nbformat": 4,
 "nbformat_minor": 5
}
